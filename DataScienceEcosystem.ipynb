{
  "metadata": {
    "kernelspec": {
      "name": "python",
      "display_name": "Python (Pyodide)",
      "language": "python"
    },
    "language_info": {
      "codemirror_mode": {
        "name": "python",
        "version": 3
      },
      "file_extension": ".py",
      "mimetype": "text/x-python",
      "name": "python",
      "nbconvert_exporter": "python",
      "pygments_lexer": "ipython3",
      "version": "3.8"
    }
  },
  "nbformat_minor": 5,
  "nbformat": 4,
  "cells": [
    {
      "id": "ddb81f6d-0ba3-43bd-9730-635a97438893",
      "cell_type": "markdown",
      "source": "# Data Science Tools & Ecosystem\nIn this notebook, Data Science Tools & Ecosystem are summarized",
      "metadata": {}
    },
    {
      "id": "da566015-dc0c-47c5-926f-9a5f354c31fd",
      "cell_type": "markdown",
      "source": "Objectives:\n\n1. Grasp the basics of what is a Data Scientist\n2. To Learn what software professionals use/why\n3. Engage in Forums & Communities to ask for help when i'm stuck\n4. To understand why and how Python is used\n5. Gain some more experience using WSL\n\n• Some popular DS Languages\n\n• Commonly used Libraries\n\n• Main DS Tools\n\n• Python Aritmetic Operators\n\n• Flat/Spreadsheet Files",
      "metadata": {}
    },
    {
      "id": "29b2c7b3-ec58-466d-a011-fd39e15c78a3",
      "cell_type": "markdown",
      "source": "Some of the popular languages that Data Scientists use are:\n\n1. Python.\n2. R.\n3. SQL.\n4. Java.\n5. Scala.\n\nAmong others are widely used to do projects in the Data Scientist Landscape. ",
      "metadata": {}
    },
    {
      "id": "37dd90b7-c3fc-42c5-b8a1-d0a625085f08",
      "cell_type": "markdown",
      "source": "Some of the commonly used libraries used by Data Scientists Include:\n\n1. NumPy.\n2. Pandas.\n3. Matplotlib.\n4. TensorFlow.",
      "metadata": {}
    },
    {
      "id": "bfbdbf27-9650-4038-a76f-503fcac76ee4",
      "cell_type": "markdown",
      "source": "Below holds a list of (Some) Data Science Tools:\n\n1. Jupyter Notebooks/Lab/Lite\n2. Github\n3. RStudio\n4. MySQL\n\nWhile this is not the full list these are some of the popular ones.",
      "metadata": {}
    },
    {
      "id": "f23c616e-b1ed-49db-9ba6-6d2369cc7cf6",
      "cell_type": "markdown",
      "source": "### Below are all examples of evaluating arithmetic expressions in Python:\nCurrently at the time of writing this these are all the Arithmetic Expressions.\n\n1. + (Addition)\n2. - (Subtraction)\n3. * (Multiplication)\n4. / (Division)\n5. // (Floor Division)\n6. % (Modulo)\n7. ** (Power)",
      "metadata": {}
    },
    {
      "id": "c42398e0-2fa5-4ecf-b1da-e3757efd8bd0",
      "cell_type": "code",
      "source": "## This is a simple Aritmetic Expression to multiply then add Integers\n(3*4)+5",
      "metadata": {
        "trusted": true
      },
      "outputs": [
        {
          "execution_count": 11,
          "output_type": "execute_result",
          "data": {
            "text/plain": "17"
          },
          "metadata": {}
        }
      ],
      "execution_count": 11
    },
    {
      "id": "07c7c344-83d6-4999-bcaa-60b95edf2e20",
      "cell_type": "code",
      "source": "## This will convert 200 Minutes to Hours by dividing by 60\nminutes = 200 % 60\nhours = 200 // 60\n\nprint(hours)",
      "metadata": {
        "trusted": true
      },
      "outputs": [
        {
          "name": "stdout",
          "output_type": "stream",
          "text": "3\n"
        }
      ],
      "execution_count": 15
    },
    {
      "id": "a2c10b67-d6a1-479e-a25b-76328ed80f5f",
      "cell_type": "markdown",
      "source": "## Author\nDerek Trotman",
      "metadata": {}
    },
    {
      "id": "9743a7bc-dd0e-4249-b959-fc0550b41b42",
      "cell_type": "code",
      "source": "",
      "metadata": {
        "trusted": true
      },
      "outputs": [],
      "execution_count": null
    }
  ]
}